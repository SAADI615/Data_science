{
 "cells": [
  {
   "cell_type": "code",
   "execution_count": 1,
   "id": "715d9fb0-3d91-4668-81d4-759d2e865000",
   "metadata": {},
   "outputs": [
    {
     "name": "stderr",
     "output_type": "stream",
     "text": [
      "C:\\Users\\User\\anaconda3\\Lib\\site-packages\\dask\\dataframe\\_pyarrow_compat.py:23: UserWarning: You are using pyarrow version 11.0.0 which is known to be insecure. See https://www.cve.org/CVERecord?id=CVE-2023-47248 for further details. Please upgrade to pyarrow>=14.0.1 or install pyarrow-hotfix to patch your current version.\n",
      "  warnings.warn(\n"
     ]
    }
   ],
   "source": [
    "import numpy as np\n",
    "import pandas as pd\n",
    "import matplotlib.pyplot as plt\n",
    "import seaborn as sb\n",
    "from sklearn import metrics\n",
    "from sklearn.metrics import classification_report\n",
    "from sklearn.metrics import accuracy_score, f1_score, precision_score, recall_score, confusion_matrix, cohen_kappa_score\n",
    "from sklearn.metrics import roc_auc_score\n",
    "from sklearn.metrics import precision_recall_curve\n",
    "from sklearn.metrics import matthews_corrcoef\n",
    "from sklearn.model_selection import train_test_split\n",
    "from sklearn.tree import DecisionTreeClassifier\n",
    "from sklearn.tree import ExtraTreeClassifier\n",
    "from sklearn.ensemble import RandomForestClassifier, ExtraTreesClassifier\n",
    "from sklearn.ensemble import AdaBoostClassifier\n",
    "from sklearn.ensemble import GradientBoostingClassifier\n",
    "from xgboost import XGBClassifier\n",
    "from lightgbm import LGBMClassifier\n",
    "from sklearn.neighbors import KNeighborsClassifier\n",
    "from sklearn.ensemble import StackingClassifier\n",
    "from sklearn.model_selection import KFold\n",
    "from sklearn.model_selection import cross_val_score, cross_val_predict\n",
    "from sklearn.model_selection import GridSearchCV"
   ]
  },
  {
   "cell_type": "code",
   "execution_count": 2,
   "id": "b2ac1d2a-b374-4008-acc3-7714549b3ef5",
   "metadata": {},
   "outputs": [],
   "source": [
    "df = pd.read_csv('protine_apaac.csv')\n",
    "y = df['0']\n",
    "x = df.drop('0', axis=1)\n",
    "from collections import Counter\n",
    "from sklearn.datasets import make_classification\n",
    "from imblearn.over_sampling import RandomOverSampler\n",
    "\n",
    "ros = RandomOverSampler(random_state=42)\n",
    "x_ros, y_ros = ros.fit_resample(x, y)\n",
    "xtrain, xtest, ytrain, ytest = train_test_split(x_ros, y_ros, test_size=0.3)"
   ]
  },
  {
   "cell_type": "code",
   "execution_count": 3,
   "id": "9ea9d9f6-e294-4956-b565-e73fb448072e",
   "metadata": {},
   "outputs": [
    {
     "data": {
      "text/plain": [
       "0\n",
       "1    641\n",
       "0    624\n",
       "Name: count, dtype: int64"
      ]
     },
     "execution_count": 3,
     "metadata": {},
     "output_type": "execute_result"
    }
   ],
   "source": [
    "ytrain.value_counts()"
   ]
  },
  {
   "cell_type": "markdown",
   "id": "c1f28b17-4777-493a-a29d-5f3cfc995671",
   "metadata": {},
   "source": [
    "Balancing"
   ]
  },
  {
   "cell_type": "code",
   "execution_count": 4,
   "id": "aaf0c2f9-e49a-44b2-a4d1-a60ec68256bd",
   "metadata": {},
   "outputs": [],
   "source": [
    "model_params = {\n",
    "    # 'random_forest': {\n",
    "    #     'model': RandomForestClassifier(),\n",
    "    #     'params':{\n",
    "    #         'n_estimators':range(10,1000),\n",
    "    #         'max_depth':range(1,100)\n",
    "    #     }\n",
    "    # },\n",
    "    'XGBclassifire': {\n",
    "        'model': XGBClassifier(),\n",
    "        'params':{\n",
    "            'n_estimators':range(10,1000),\n",
    "            'max_depth':range(1,100),\n",
    "            'learning_rate':[0.1]\n",
    "        }\n",
    "    },\n",
    "    'LGBMClassifier':{\n",
    "        'model': LGBMClassifier(),\n",
    "        'params':{\n",
    "            'learning_rate':[0.1],\n",
    "            'max_depth':range(1,100),\n",
    "            'random_state':[25,50,100,150,200]\n",
    "        }\n",
    "    },\n",
    "    'GradientBoostingClassifier':{\n",
    "        'model': GradientBoostingClassifier(),\n",
    "        'params':{\n",
    "            'n_estimators':range(10,1000),\n",
    "            'learning_rate':[0.1],\n",
    "            'random_state':range(10,500)\n",
    "        }\n",
    "    },\n",
    "    'AdaBoostClassifier':{\n",
    "        'model': AdaBoostClassifier(),\n",
    "        'params':{\n",
    "            'n_estimators':range(10,1000),\n",
    "            'learning_rate':[0.1],\n",
    "            'random_state':range(10,500)\n",
    "        }\n",
    "    }\n",
    "    # 'logistic_regression': {\n",
    "    #     'model': LogisticRegression(solver='liblinear',multi_class='auto'),\n",
    "    #     'params':{\n",
    "    #         'C':[1,5,10]\n",
    "    #     }\n",
    "    # }\n",
    "}"
   ]
  },
  {
   "cell_type": "code",
   "execution_count": null,
   "id": "47c10ed6-3c36-441a-bb96-903df217b666",
   "metadata": {},
   "outputs": [],
   "source": [
    "scores = []\n",
    "for y,x in model_params.items():\n",
    "    from sklearn.metrics import f1_score, precision_score, recall_score, log_loss, accuracy_score, matthews_corrcoef, roc_auc_score, cohen_kappa_score\n",
    "  # evaluate model\n",
    "  # scores = cross_val_score(model, X, y, scoring='accuracy', cv=cv, n_jobs=-1)\n",
    "  # model.fit(xtrain, ytrain)\n",
    "  # pred = model.predict(xtest)\n",
    "    pred = cross_val_predict(x['model'], xtrain, ytrain, cv=5, n_jobs=-1)\n",
    "\n",
    "  # cm1 = confusion_matrix(y, y_pred)\n",
    "  # report performance\n",
    "    Accuracy = accuracy_score(ytrain, pred)\n",
    "    mcc = matthews_corrcoef(ytrain, pred)\n",
    "    cm1 = confusion_matrix(ytrain, pred)\n",
    "    kappa = cohen_kappa_score(ytrain, pred)\n",
    "    f1 = f1_score(ytrain, pred)\n",
    "    precision_score = precision_score(ytrain, pred)\n",
    "    recall_score = recall_score(ytrain, pred)\n",
    "    sensitivity = cm1[0,0]/(cm1[0,0]+cm1[0,1])\n",
    "    specificity = cm1[1,1]/(cm1[1,0]+cm1[1,1])\n",
    "\n",
    "\n",
    "for model_name, mp in model_params.items():\n",
    "    clf = GridSearchCV(mp['model'],mp['params'], cv=5, return_train_score=False)\n",
    "    clf.fit(xtrain, ytrain)\n",
    "    scores.append({\n",
    "        'model': model_name,\n",
    "        'best_score': clf.best_score_,\n",
    "        'best_params': clf.best_params_,\n",
    "        'Accuracy': Accuracy,\n",
    "        'mcc': mcc,\n",
    "        'kappa': kappa,\n",
    "        'f1': f1,\n",
    "        'precision_score': precision_score,\n",
    "        'recall_score': recall_score,\n",
    "        'sensitivity': sensitivity,\n",
    "        'specificity': specificity\n",
    "    })"
   ]
  },
  {
   "cell_type": "code",
   "execution_count": null,
   "id": "049e9c8c-09c5-41ae-bf2c-3aaf14b6a1c4",
   "metadata": {},
   "outputs": [],
   "source": [
    "df = pd.DataFrame(scores)\n",
    "df"
   ]
  },
  {
   "cell_type": "code",
   "execution_count": null,
   "id": "98052dcd-6434-437f-bf38-dbd2ff0cd461",
   "metadata": {},
   "outputs": [],
   "source": []
  }
 ],
 "metadata": {
  "kernelspec": {
   "display_name": "Python 3 (ipykernel)",
   "language": "python",
   "name": "python3"
  },
  "language_info": {
   "codemirror_mode": {
    "name": "ipython",
    "version": 3
   },
   "file_extension": ".py",
   "mimetype": "text/x-python",
   "name": "python",
   "nbconvert_exporter": "python",
   "pygments_lexer": "ipython3",
   "version": "3.11.5"
  }
 },
 "nbformat": 4,
 "nbformat_minor": 5
}

{
 "cells": [
  {
   "cell_type": "code",
   "execution_count": 12,
   "id": "ea536d6a-cc6b-43fd-a19b-c9297a5d2690",
   "metadata": {},
   "outputs": [],
   "source": [
    "from Bio import SeqIO\n",
    "from sklearn.feature_extraction.text import TfidfVectorizer\n",
    "from sklearn.decomposition import TruncatedSVD\n",
    "import pandas as pd\n",
    "\n",
    "fasta_file = 'Pos.fasta'\n",
    "\n",
    "sequences = []\n",
    "for record in SeqIO.parse(fasta_file, \"fasta\"):\n",
    "    sequences.append(str(record.seq))\n",
    "\n",
    "# Generate feature vectors based on amino acid composition\n",
    "vectorizer = TfidfVectorizer(analyzer=\"char\", ngram_range=(1, 2))\n",
    "feature_matrix = vectorizer.fit_transform(sequences)\n",
    "\n",
    "# Perform LSA on the TF-IDF matrix\n",
    "lsa = TruncatedSVD(n_components=100)\n",
    "lsa_matrix = lsa.fit_transform(feature_matrix)\n",
    "\n",
    "# Convert the LSA matrix into a pandas DataFrame and save it to a CSV file\n",
    "df = pd.DataFrame(lsa_matrix)\n",
    "df.to_csv(\"LSA\\LSA-Pos.csv\", index=False)"
   ]
  },
  {
   "cell_type": "code",
   "execution_count": null,
   "id": "c35b2edf-c9d5-4e2a-86ad-cabb40fd6d54",
   "metadata": {},
   "outputs": [],
   "source": []
  }
 ],
 "metadata": {
  "kernelspec": {
   "display_name": "Python 3 (ipykernel)",
   "language": "python",
   "name": "python3"
  },
  "language_info": {
   "codemirror_mode": {
    "name": "ipython",
    "version": 3
   },
   "file_extension": ".py",
   "mimetype": "text/x-python",
   "name": "python",
   "nbconvert_exporter": "python",
   "pygments_lexer": "ipython3",
   "version": "3.11.5"
  }
 },
 "nbformat": 4,
 "nbformat_minor": 5
}
